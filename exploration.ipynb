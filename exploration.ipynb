{
 "cells": [
  {
   "cell_type": "code",
   "execution_count": 1,
   "id": "c2e904e7",
   "metadata": {},
   "outputs": [],
   "source": [
    "import json\n",
    "import re\n",
    "import pandas as pd\n",
    "from pandas import json_normalize"
   ]
  },
  {
   "cell_type": "code",
   "execution_count": 5,
   "id": "3649db93",
   "metadata": {},
   "outputs": [],
   "source": [
    "# You can safely assume that `build_dataset` is correctly implemented\n",
    "def build_dataset():\n",
    "    data = [json.loads(x) for x in open(\"MLA_100k_checked_v3.jsonlines\")]\n",
    "    target = lambda x: x.get(\"condition\")\n",
    "    N = -10000\n",
    "    X_train = data[:N]\n",
    "    X_test = data[N:]\n",
    "    y_train = [target(x) for x in X_train]\n",
    "    y_test = [target(x) for x in X_test]\n",
    "    for x in X_test:\n",
    "        del x[\"condition\"]\n",
    "    return X_train, y_train, X_test, y_test\n",
    "\n",
    "def pre_process(text):\n",
    "    '''function that normalize the text'''\n",
    "    text = str(text)                             # Converting texto into string\n",
    "    text = re.sub(r'[^\\w\\s]', ' ', text)         # Remove all the special characters\n",
    "    return text\n",
    "\n",
    "def clean_flattern_json(df):\n",
    "    #1st normalization: flatten columns with json files\n",
    "    dfp = json_normalize(df)\n",
    "    #2nd normalization: flatten nested columns with json files\n",
    "    nested_columns = ['non_mercado_pago_payment_methods',\n",
    "                      'pictures']\n",
    "    for col in nested_columns:\n",
    "        df_col = json_normalize(df, record_path=col)\n",
    "        columns_name = df_col.columns\n",
    "        for ncols in columns_name:\n",
    "            df_col = df_col.rename(columns={ncols:col+'.'+ncols})\n",
    "        dfp = pd.concat([dfp, df_col], axis=1)\n",
    "    #remove nested columns \n",
    "    dfp.drop(nested_columns, axis='columns', inplace=True)\n",
    "    #3rd normalization: remove special characters from columns\n",
    "    columns_with_special_characters = ['sub_status',\n",
    "                                       'deal_ids',\n",
    "                                       'variations',\n",
    "                                       'attributes',\n",
    "                                       'tags',\n",
    "                                       'coverage_areas',\n",
    "                                       'descriptions']\n",
    "    for col in columns_with_special_characters:\n",
    "        dfp[col] = dfp[col].apply(pre_process)\n",
    "    return dfp"
   ]
  },
  {
   "cell_type": "code",
   "execution_count": 6,
   "id": "403d1315",
   "metadata": {},
   "outputs": [
    {
     "name": "stdout",
     "output_type": "stream",
     "text": [
      "Loading dataset...\n"
     ]
    }
   ],
   "source": [
    "if __name__ == \"__main__\":\n",
    "    print(\"Loading dataset...\")\n",
    "    # Train and test data following sklearn naming conventions\n",
    "    # X_train (X_test too) is a list of dicts with information about each item.\n",
    "    # y_train (y_test too) contains the labels to be predicted (new or used).\n",
    "    # The label of X_train[i] is y_train[i].\n",
    "    # The label of X_test[i] is y_test[i].\n",
    "    X_train, y_train, X_test, y_test = build_dataset()\n",
    "    X_train = clean_flattern_json(X_train)\n",
    "    X_test = clean_flattern_json(X_test)"
   ]
  },
  {
   "cell_type": "code",
   "execution_count": 9,
   "id": "24b0b6ad",
   "metadata": {},
   "outputs": [
    {
     "data": {
      "text/plain": [
       "63"
      ]
     },
     "execution_count": 9,
     "metadata": {},
     "output_type": "execute_result"
    }
   ],
   "source": [
    "len(X_train.columns)"
   ]
  },
  {
   "cell_type": "code",
   "execution_count": null,
   "id": "e08950fb",
   "metadata": {},
   "outputs": [],
   "source": [
    "pd.set_option('display.max_rows', None)\n",
    "pd.set_option('display.max_columns', None)"
   ]
  },
  {
   "cell_type": "code",
   "execution_count": null,
   "id": "aa5e075e",
   "metadata": {},
   "outputs": [],
   "source": [
    "df_X_train = pd.DataFrame(X_train)"
   ]
  },
  {
   "cell_type": "code",
   "execution_count": null,
   "id": "fd23f528",
   "metadata": {},
   "outputs": [],
   "source": [
    "df_X_train.head(2)"
   ]
  },
  {
   "cell_type": "code",
   "execution_count": 4,
   "id": "565dc041",
   "metadata": {},
   "outputs": [],
   "source": [
    "X_train_df = json_normalize(X_train)"
   ]
  },
  {
   "cell_type": "code",
   "execution_count": null,
   "id": "d9ea4d1b",
   "metadata": {},
   "outputs": [],
   "source": [
    "X_train_df.head(2)"
   ]
  },
  {
   "cell_type": "code",
   "execution_count": null,
   "id": "ff0a31f8",
   "metadata": {},
   "outputs": [],
   "source": [
    "for col in ['non_mercado_pago_payment_methods','pictures']:\n",
    "    df1 = json_normalize(X_train, record_path=col)\n",
    "    columns_name = df1.columns\n",
    "    for ncols in columns_name:\n",
    "        df1 = df1.rename(columns={ncols:col+'.'+ncols})\n",
    "    X_train_df = pd.concat([X_train_df, df1], axis=1)\n",
    "    #df1.head()"
   ]
  },
  {
   "cell_type": "code",
   "execution_count": null,
   "id": "9ff58de2",
   "metadata": {},
   "outputs": [],
   "source": [
    "X_train_df.head(2)"
   ]
  },
  {
   "cell_type": "code",
   "execution_count": null,
   "id": "bda6f014",
   "metadata": {},
   "outputs": [],
   "source": [
    "for col in ['sub_status','deal_ids','variations','attributes','tags','coverage_areas','descriptions']:\n",
    "    X_train_df[col] = X_train_df[col].apply(pre_process)"
   ]
  },
  {
   "cell_type": "code",
   "execution_count": null,
   "id": "1ba617b4",
   "metadata": {},
   "outputs": [],
   "source": [
    "X_train_df.head(2)"
   ]
  },
  {
   "cell_type": "code",
   "execution_count": null,
   "id": "e705d53d",
   "metadata": {},
   "outputs": [],
   "source": [
    "X_train_df['shipping.local_pick_up'].unique()"
   ]
  },
  {
   "cell_type": "code",
   "execution_count": null,
   "id": "56bbde7d",
   "metadata": {},
   "outputs": [],
   "source": [
    "X_train_df.drop(['non_mercado_pago_payment_methods','pictures'], axis='columns', inplace=True)"
   ]
  },
  {
   "cell_type": "code",
   "execution_count": null,
   "id": "314618d2",
   "metadata": {},
   "outputs": [],
   "source": [
    "X_train_df.head(2)"
   ]
  },
  {
   "cell_type": "code",
   "execution_count": null,
   "id": "68ce8a95",
   "metadata": {},
   "outputs": [],
   "source": []
  }
 ],
 "metadata": {
  "kernelspec": {
   "display_name": "Python 3 (ipykernel)",
   "language": "python",
   "name": "python3"
  },
  "language_info": {
   "codemirror_mode": {
    "name": "ipython",
    "version": 3
   },
   "file_extension": ".py",
   "mimetype": "text/x-python",
   "name": "python",
   "nbconvert_exporter": "python",
   "pygments_lexer": "ipython3",
   "version": "3.9.12"
  }
 },
 "nbformat": 4,
 "nbformat_minor": 5
}
